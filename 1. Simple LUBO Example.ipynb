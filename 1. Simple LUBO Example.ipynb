{
 "cells": [
  {
   "cell_type": "markdown",
   "id": "04322889",
   "metadata": {},
   "source": [
    "# 1. Simple \"LUBO\" Example\n",
    "### James Saslow\n",
    "### 12/3/2023"
   ]
  },
  {
   "cell_type": "markdown",
   "id": "5d58e5e5",
   "metadata": {},
   "source": [
    "The primary motivation of quantum annealers is to solve Quadratic Unconstrained Binary Optimization problems (QUBO). \n",
    "\n",
    "The goal to solving QUBO problems is to find the optimal solution to the following cost function:\n",
    "\n",
    "\n",
    "### $C(X) = \\sum_{i} W_{i} x_{i} + \\sum_{\\{i,j\\}\\epsilon \\mathbb{S}} w_{i,j} x_{i} x_{j}$ \n",
    "\n",
    "where $X = \\{x_{0}, x_{1}, ... x_{N-1} \\}$ and $x_{i} \\epsilon \\{0,1\\}$\n",
    "\n",
    "\n",
    "In this example, we will omit the quadratic terms for simplicity such that we only have *linear* terms. Thus, we're left with a Linear Unconstrained Binary Optimization problem (Don't worry, we'll add back the quadraticness later!). A LUBO can essentially be thought of as a degenerate QUBO.\n",
    "\n",
    "### The goal of the LUBO is to find the optimal solutions of the following cost function:\n",
    "\n",
    "### $C(X) = \\sum_{i}^{N} W_{i} x_{i}$\n",
    "\n",
    "Let's analyze a specific example. Here's a LUBO I just came up with on the spot\n",
    "\n",
    "### $C(|x_{0} x_{1} x_{2}>) = x_{0} - 2 x_{1} + 5 x_{2}$\n",
    "\n",
    "### A question of interest is what binary bit string $|x_{0} x_{1} x_{2}>$ will minimize $C(X)$?\n",
    "\n",
    "Well, upon inspection, if we set $x_{0} = 0$, $x_{1} = 1$, $x_{2} = 0$, we get $C(|010>) = 0 -2*1 +5*0 = -2$, which is the minimum of $C(X)$!\n",
    "\n",
    "Let's Test this on DWave's Quantum Annealer Hybrid Solver and confirm that $|010>$ really is the solution to this LUBO."
   ]
  },
  {
   "cell_type": "code",
   "execution_count": 1,
   "id": "5af7c210",
   "metadata": {},
   "outputs": [],
   "source": [
    "# Importing DWave Packages\n",
    "from dwave.system import DWaveSampler, EmbeddingComposite\n",
    "from dimod import BinaryQuadraticModel"
   ]
  },
  {
   "cell_type": "code",
   "execution_count": 1,
   "id": "5d9de8c3",
   "metadata": {},
   "outputs": [],
   "source": [
    "# Defining the QUBO parameters\n",
    "\n",
    "items   = [0,1,2]  # Binary Variable Labeling\n",
    "weights = [1,-2,5] # W weights associated with each binary variable\n",
    "\n",
    "x = ['Item_0', 'Item_1', 'Item_2'] # More Binary Variable Labeling"
   ]
  },
  {
   "cell_type": "code",
   "execution_count": 3,
   "id": "249d94e6",
   "metadata": {},
   "outputs": [
    {
     "data": {
      "text/plain": [
       "BinaryQuadraticModel({'Item_0': 1.0, 'Item_1': -2.0, 'Item_2': 5.0}, {}, 0.0, 'BINARY')"
      ]
     },
     "execution_count": 3,
     "metadata": {},
     "output_type": "execute_result"
    }
   ],
   "source": [
    "# Encoding the QUBO in DWave solvers\n",
    "\n",
    "bqm = BinaryQuadraticModel(\"BINARY\") # Encoding QUBO\n",
    "\n",
    "# Writing the Objective Function (adding each variable and assigning it's associated weight)\n",
    "for i in items:\n",
    "    bqm.add_variable(x[i], weights[i])\n",
    "    \n",
    "    \n",
    "bqm"
   ]
  },
  {
   "cell_type": "code",
   "execution_count": 4,
   "id": "aa0a002a",
   "metadata": {},
   "outputs": [],
   "source": [
    "# Solve the problem using D-Wave\n",
    "sampler = EmbeddingComposite(DWaveSampler())\n",
    "sampleset = sampler.sample(bqm, num_reads=50)"
   ]
  },
  {
   "cell_type": "code",
   "execution_count": 5,
   "id": "cace53f8",
   "metadata": {},
   "outputs": [],
   "source": [
    "# Post-Processing Solver Output\n",
    "opt_solution = sampleset.first.sample # Binary Bit-String that minimizes the cost function\n",
    "opt_value = sampleset.first.energy    # Minimized Cost function value"
   ]
  },
  {
   "cell_type": "code",
   "execution_count": 6,
   "id": "eeb2df55",
   "metadata": {},
   "outputs": [
    {
     "name": "stdout",
     "output_type": "stream",
     "text": [
      "{'Item_0': 0, 'Item_1': 1, 'Item_2': 0}\n",
      "C_min =  -2.0\n"
     ]
    }
   ],
   "source": [
    "print(opt_solution)\n",
    "print('C_min = ', opt_value)"
   ]
  },
  {
   "cell_type": "markdown",
   "id": "0aeed459",
   "metadata": {},
   "source": [
    "Here, we confirmed with DWave that the binary bit string that minimizes the given cost function is $|010>$ and $C_{min} = -2$"
   ]
  },
  {
   "cell_type": "markdown",
   "id": "b533bba7",
   "metadata": {},
   "source": [
    "### But what if we want to find which binary bit string $|x_{0} x_{1} x_{2}>$ will *maximize* C(X)?\n",
    "\n",
    "Quantum annealers will always construct an ising model equivalent of the QUBO that will relax to the ground state finding the minimum. \n",
    "\n",
    "So, we need to define a new cost function $C'(X)$ whose minimum is the maximum of $C(X)$.\n",
    "\n",
    "To do this, we just need to carry out the following transformation on the $C(X)$ cost function: $C'(X)  = - C(X)$\n",
    "\n",
    "Thus, the new cost function is\n",
    "\n",
    "### $C'(X) = -x_{0} + 2 x_{1} - 5 x_{2}$\n",
    "\n",
    "and we want to find the binary bit string $|x_{0}x_{1}x_{2}>$ that minimizes $C'(X)$, which is the same procedure as last time, just with a different *weights* vector."
   ]
  },
  {
   "cell_type": "code",
   "execution_count": 7,
   "id": "374d7b50",
   "metadata": {},
   "outputs": [],
   "source": [
    "# Defining the QUBO parameters\n",
    "\n",
    "items   = [0,1,2]  # Binary Variable Labeling\n",
    "\n",
    "# Weights for this C'(X) cost function are the negative of the C(X) cost function\n",
    "weights = [-1,2,-5] # W weights associated with each binary variable\n",
    "\n",
    "x = ['Item_0', 'Item_1', 'Item_2'] # More Binary Variable Labeling"
   ]
  },
  {
   "cell_type": "code",
   "execution_count": 8,
   "id": "7db3f46b",
   "metadata": {},
   "outputs": [
    {
     "data": {
      "text/plain": [
       "BinaryQuadraticModel({'Item_0': -1.0, 'Item_1': 2.0, 'Item_2': -5.0}, {}, 0.0, 'BINARY')"
      ]
     },
     "execution_count": 8,
     "metadata": {},
     "output_type": "execute_result"
    }
   ],
   "source": [
    "# Encoding the QUBO in DWave solvers\n",
    "\n",
    "bqm = BinaryQuadraticModel(\"BINARY\") # Encoding QUBO\n",
    "\n",
    "# Writing the Objective Function (adding each variable and assigning it's associated weight)\n",
    "for i in items:\n",
    "    bqm.add_variable(x[i], weights[i])\n",
    "    \n",
    "    \n",
    "bqm"
   ]
  },
  {
   "cell_type": "code",
   "execution_count": 11,
   "id": "78a5244c",
   "metadata": {},
   "outputs": [],
   "source": [
    "# Solve the problem using D-Wave\n",
    "sampler = EmbeddingComposite(DWaveSampler())\n",
    "sampleset = sampler.sample(bqm, num_reads=50)"
   ]
  },
  {
   "cell_type": "code",
   "execution_count": 12,
   "id": "c30ed360",
   "metadata": {},
   "outputs": [],
   "source": [
    "# Post-Processing Solver Output\n",
    "opt_solution = sampleset.first.sample # Binary Bit-String that minimizes the cost function"
   ]
  },
  {
   "cell_type": "code",
   "execution_count": 13,
   "id": "3b1e61ed",
   "metadata": {},
   "outputs": [
    {
     "name": "stdout",
     "output_type": "stream",
     "text": [
      "{'Item_0': 1, 'Item_1': 0, 'Item_2': 1}\n"
     ]
    }
   ],
   "source": [
    "print(opt_solution)"
   ]
  },
  {
   "cell_type": "markdown",
   "id": "8ebf4864",
   "metadata": {},
   "source": [
    "### Thus the solution that minimizes C'(X) is |101>\n",
    "\n",
    "### This means that the binary bit string that maximizes C(X) is |101>\n",
    "\n",
    "Let's evaluate $C(X)$ at $X = |101>$.\n",
    "\n",
    "$C(X) = x_{0} - 2 x_{1} + 5 x_{2}$\n",
    "\n",
    "$C(|101>) = (1) - 2 (0) + 5(1) = 6$\n",
    "\n",
    "\n",
    "_________________________________\n",
    "\n",
    "### Therefore, the optimal solutions to the LUBO $C(X) = x_{0} - 2 x_{1} +5 x_{2}$ are\n",
    "- $X_{min} =  |010>$ , $C_{min} = C(|010>) = -2$\n",
    "- $X_{max} =  |101>$ , $C_{max} = C(|101>) = 6$"
   ]
  },
  {
   "cell_type": "markdown",
   "id": "3c690419",
   "metadata": {},
   "source": [
    "Stay tuned for the next example where we impliment the Subset Sum Problem -- a real problem that can be formulated as a LUBO!"
   ]
  },
  {
   "cell_type": "markdown",
   "id": "275b95e8",
   "metadata": {},
   "source": [
    "### Sources\n",
    "\n",
    "[1] “Binary quadratic models#,” Binary Quadratic Models - Ocean Documentation 6.7.1 documentation, https://docs.ocean.dwavesys.com/en/stable/concepts/bqm.html (accessed Dec. 11, 2023). \n",
    "\n",
    "[2] “Quantum programming tutorial | D-wave qubits 2021,” YouTube, https://www.youtube.com/watch?v=jTDnGox0c9Y (accessed Dec. 11, 2023). "
   ]
  },
  {
   "cell_type": "code",
   "execution_count": null,
   "id": "edde49d9",
   "metadata": {},
   "outputs": [],
   "source": []
  }
 ],
 "metadata": {
  "hide_input": false,
  "kernelspec": {
   "display_name": "Python 3",
   "language": "python",
   "name": "python3"
  },
  "language_info": {
   "codemirror_mode": {
    "name": "ipython",
    "version": 3
   },
   "file_extension": ".py",
   "mimetype": "text/x-python",
   "name": "python",
   "nbconvert_exporter": "python",
   "pygments_lexer": "ipython3",
   "version": "3.7.5"
  }
 },
 "nbformat": 4,
 "nbformat_minor": 5
}
