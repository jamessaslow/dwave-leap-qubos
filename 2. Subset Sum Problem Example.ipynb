{
 "cells": [
  {
   "cell_type": "markdown",
   "id": "efc9298c",
   "metadata": {},
   "source": [
    "# 2. Subset Sum Problem Example\n",
    "### James Saslow\n",
    "### 12/3/2023"
   ]
  },
  {
   "cell_type": "markdown",
   "id": "f44bf4fd",
   "metadata": {},
   "source": [
    "### The Subset Sum Problem (SSP) is a math problem that can be casted in the form of a LUBO.\n",
    "\n",
    "SSP is an NP-Hard Problem where given some multiset $\\mathscr{S}$ the question is to decide if there are any subset of integers that sum to the target $T$.\n",
    "\n",
    "In this example, I will change the problem statement to make it a bit less arbitrary and arguably more practical.\n",
    "\n",
    "So, my modified SSP is given some set $\\mathscr{S} = \\{s_{0}, s_{1}, ..., s_{N-1}\\}$ where $s_{i} > 0$ find the subset of $\\mathscr{S}$ whose sum returns the extrema of $T$.\n",
    "\n",
    "This is example is a bit trivial since the entire set of positive integers sums to the maximum value that $T$ can be. Or in quantum computing language, the maximum solution is the state of all ones $|11...1>$. A '$1$' in this instance tells us to include $s_{i}$ in the sum, and a '$0$' tells us *not* to include $s_{i}$ in our sum. Thus $|11...1>$ tells us to sum everything in $\\mathscr{S}$ together.\n",
    "\n",
    "If we want to choose a subset of $\\mathscr{S}$ that sums to the minimum value of $T$, then the solution is to not sum anything. This means that the minimum solution is the state of all zeros $|00...0>$"
   ]
  },
  {
   "cell_type": "markdown",
   "id": "e8da60e4",
   "metadata": {},
   "source": [
    "### Let's Define a Particular Example of the Modified SSP\n",
    "\n",
    "Let's say I have a set $\\mathscr{S} = \\{1,2,3,4,5,6,7,8\\}$\n",
    "\n",
    "and I want to choose \n",
    "- 1) a subset of $\\mathscr{S}$ that, when summed, is a minimum\n",
    "- 2) a subset of $\\mathscr{S}$ that, when summed, is a maximum\n",
    "\n",
    "The solutions we expect are \n",
    "- 1) $X_{min} = |00000000>$\n",
    "- 2) $X_{max} = |11111111>$"
   ]
  },
  {
   "cell_type": "markdown",
   "id": "2d0889a8",
   "metadata": {},
   "source": [
    "### Encoding and Solving Task 1 on DWave: The Minimum to the Modified SSP"
   ]
  },
  {
   "cell_type": "code",
   "execution_count": 1,
   "id": "6f3a8e95",
   "metadata": {},
   "outputs": [],
   "source": [
    "# ================== Task 1: Finding the Minimum to the modified SSP =======================\n",
    "\n",
    "# Importing Packages\n",
    "import numpy as np\n",
    "\n",
    "# DWave Packages\n",
    "from dwave.system import DWaveSampler, EmbeddingComposite\n",
    "from dimod import BinaryQuadraticModel"
   ]
  },
  {
   "cell_type": "code",
   "execution_count": 2,
   "id": "b17a673b",
   "metadata": {},
   "outputs": [
    {
     "name": "stdout",
     "output_type": "stream",
     "text": [
      "[0, 1, 2, 3, 4, 5, 6, 7]\n",
      "['Item_0', 'Item_1', 'Item_2', 'Item_3', 'Item_4', 'Item_5', 'Item_6', 'Item_7']\n"
     ]
    }
   ],
   "source": [
    "# Defining the QUBO parameters\n",
    "\n",
    "items   = np.arange(0,8).tolist()#[0,1,2,3,4,5,6,7]  # Binary Variable Labeling\n",
    "print(items)\n",
    "\n",
    "weights = [1,2,3,4,5,6,7,8] # W weights associated with each binary variable\n",
    "\n",
    "x = [f'Item_{i}' for i in items] # More Binary Variable Labeling\n",
    "\n",
    "print(x)"
   ]
  },
  {
   "cell_type": "code",
   "execution_count": 3,
   "id": "3369125b",
   "metadata": {},
   "outputs": [
    {
     "data": {
      "text/plain": [
       "BinaryQuadraticModel({'Item_0': 1.0, 'Item_1': 2.0, 'Item_2': 3.0, 'Item_3': 4.0, 'Item_4': 5.0, 'Item_5': 6.0, 'Item_6': 7.0, 'Item_7': 8.0}, {}, 0.0, 'BINARY')"
      ]
     },
     "execution_count": 3,
     "metadata": {},
     "output_type": "execute_result"
    }
   ],
   "source": [
    "# Encoding the QUBO in DWave solvers\n",
    "\n",
    "bqm = BinaryQuadraticModel(\"BINARY\") # Encoding QUBO\n",
    "\n",
    "# Writing the Objective Function (adding each variable and assigning it's associated weight)\n",
    "for i in items:\n",
    "    bqm.add_variable(x[i], weights[i])\n",
    "    \n",
    "    \n",
    "bqm"
   ]
  },
  {
   "cell_type": "code",
   "execution_count": 4,
   "id": "f176a897",
   "metadata": {},
   "outputs": [],
   "source": [
    "# Solve the problem using D-Wave\n",
    "sampler = EmbeddingComposite(DWaveSampler())\n",
    "sampleset = sampler.sample(bqm, num_reads=50)"
   ]
  },
  {
   "cell_type": "code",
   "execution_count": 5,
   "id": "01ea940d",
   "metadata": {},
   "outputs": [],
   "source": [
    "# Post-Processing Solver Output\n",
    "opt_solution = sampleset.first.sample # Binary Bit-String that minimizes the cost function\n",
    "opt_value = sampleset.first.energy    # Minimized Cost function value"
   ]
  },
  {
   "cell_type": "code",
   "execution_count": 7,
   "id": "bc5d92d9",
   "metadata": {},
   "outputs": [
    {
     "name": "stdout",
     "output_type": "stream",
     "text": [
      "X_min =  {'Item_0': 0, 'Item_1': 0, 'Item_2': 0, 'Item_3': 0, 'Item_4': 0, 'Item_5': 0, 'Item_6': 0, 'Item_7': 0}\n",
      "C_min =  0.0\n"
     ]
    }
   ],
   "source": [
    "print('X_min = ', opt_solution)\n",
    "print('C_min = ', opt_value)"
   ]
  },
  {
   "cell_type": "markdown",
   "id": "966ed760",
   "metadata": {},
   "source": [
    "### Minimum solution of the Modified SSP\n",
    "\n",
    "After running this problem on DWave, we find that \n",
    "\n",
    "### $X_{min} = |00000000>$ , $C(X_{min}) = 0$\n",
    "\n",
    "which is what we predicted!\n",
    "\n",
    "Now, we need to use the $C(X) \\rightarrow{} -C'(X) $ reflection trick to formulate $C'(X)$ to get the maximum of $C(X)$."
   ]
  },
  {
   "cell_type": "markdown",
   "id": "34a5c50e",
   "metadata": {},
   "source": [
    "### Encoding and Solving Task 2 on DWave: The Maximum to the Modified SSP"
   ]
  },
  {
   "cell_type": "code",
   "execution_count": 8,
   "id": "f5e2adfb",
   "metadata": {},
   "outputs": [],
   "source": [
    "# Defining the QUBO parameters\n",
    "\n",
    "items   = np.arange(0,8).tolist()#[0,1,2,3,4,5,6,7]  # Binary Variable Labeling\n",
    "\n",
    "# Just making all the weights negative\n",
    "weights = [-1,-2,-3,-4,-5,-6,-7,-8] # W weights associated with each binary variable\n",
    "\n",
    "x = [f'Item_{i}' for i in items] # More Binary Variable Labeling"
   ]
  },
  {
   "cell_type": "code",
   "execution_count": 9,
   "id": "7f5e9436",
   "metadata": {},
   "outputs": [
    {
     "data": {
      "text/plain": [
       "BinaryQuadraticModel({'Item_0': -1.0, 'Item_1': -2.0, 'Item_2': -3.0, 'Item_3': -4.0, 'Item_4': -5.0, 'Item_5': -6.0, 'Item_6': -7.0, 'Item_7': -8.0}, {}, 0.0, 'BINARY')"
      ]
     },
     "execution_count": 9,
     "metadata": {},
     "output_type": "execute_result"
    }
   ],
   "source": [
    "# Encoding the QUBO in DWave solvers\n",
    "\n",
    "bqm = BinaryQuadraticModel(\"BINARY\") # Encoding QUBO\n",
    "\n",
    "# Writing the Objective Function (adding each variable and assigning it's associated weight)\n",
    "for i in items:\n",
    "    bqm.add_variable(x[i], weights[i])\n",
    "    \n",
    "    \n",
    "bqm"
   ]
  },
  {
   "cell_type": "code",
   "execution_count": 10,
   "id": "50a0e3d9",
   "metadata": {},
   "outputs": [],
   "source": [
    "# Solve the problem using D-Wave\n",
    "sampler = EmbeddingComposite(DWaveSampler())\n",
    "sampleset = sampler.sample(bqm, num_reads=50)"
   ]
  },
  {
   "cell_type": "code",
   "execution_count": 11,
   "id": "475bbb62",
   "metadata": {},
   "outputs": [],
   "source": [
    "# Post-Processing Solver Output\n",
    "opt_solution = sampleset.first.sample # Binary Bit-String that minimizes the cost function\n",
    "opt_value = sampleset.first.energy    # Minimized Cost function value"
   ]
  },
  {
   "cell_type": "code",
   "execution_count": 12,
   "id": "c831017a",
   "metadata": {},
   "outputs": [
    {
     "name": "stdout",
     "output_type": "stream",
     "text": [
      "X_max =  {'Item_0': 1, 'Item_1': 1, 'Item_2': 1, 'Item_3': 1, 'Item_4': 1, 'Item_5': 1, 'Item_6': 1, 'Item_7': 1}\n",
      "C_max =  36.0\n"
     ]
    }
   ],
   "source": [
    "print('X_max = ', opt_solution)\n",
    "print('C_max = ', -opt_value)"
   ]
  },
  {
   "cell_type": "markdown",
   "id": "d1f98963",
   "metadata": {},
   "source": [
    "### Maximum solution of the modified SSP\n",
    "\n",
    "After running this problem on DWave, we find that\n",
    "\n",
    "### $X_{max} = |11111111>$ , $C_{max} = 36$\n",
    "\n",
    "which is also what we predicted!"
   ]
  },
  {
   "cell_type": "markdown",
   "id": "b14318e7",
   "metadata": {},
   "source": [
    "Stay tuned for the next example where we investigate the *knapsack problem*,which is another LUBO problem similar to the modified subset sum problem, but with a constraint!"
   ]
  },
  {
   "cell_type": "markdown",
   "id": "feedba8d",
   "metadata": {},
   "source": [
    "### Sources\n",
    "\n",
    "[1] “Dynamic programming - subset sum problem,” GeeksforGeeks, https://www.geeksforgeeks.org/subset-sum-problem-dp-25/ (accessed Dec. 11, 2023). \n",
    "\n",
    "[2] “Binary quadratic models#,” Binary Quadratic Models - Ocean Documentation 6.7.1 documentation, https://docs.ocean.dwavesys.com/en/stable/concepts/bqm.html (accessed Dec. 11, 2023). \n",
    "\n",
    "[3] “Quantum programming tutorial | D-wave qubits 2021,” YouTube, https://www.youtube.com/watch?v=jTDnGox0c9Y (accessed Dec. 11, 2023). "
   ]
  },
  {
   "cell_type": "code",
   "execution_count": null,
   "id": "31620621",
   "metadata": {},
   "outputs": [],
   "source": []
  }
 ],
 "metadata": {
  "hide_input": false,
  "kernelspec": {
   "display_name": "Python 3",
   "language": "python",
   "name": "python3"
  },
  "language_info": {
   "codemirror_mode": {
    "name": "ipython",
    "version": 3
   },
   "file_extension": ".py",
   "mimetype": "text/x-python",
   "name": "python",
   "nbconvert_exporter": "python",
   "pygments_lexer": "ipython3",
   "version": "3.7.5"
  }
 },
 "nbformat": 4,
 "nbformat_minor": 5
}
