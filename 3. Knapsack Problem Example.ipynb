{
 "cells": [
  {
   "cell_type": "markdown",
   "id": "cdcfd45c",
   "metadata": {},
   "source": [
    "# 3. The Knapsack Problem\n",
    "### James Saslow\n",
    "### 12/3/2023"
   ]
  },
  {
   "cell_type": "markdown",
   "id": "30eb731a",
   "metadata": {},
   "source": [
    "The Knapsack problem states that given a bunch of items that have a certain weight and monetary value, which items should you grab to maximize profit under the constraint that you have a carrying capacity?\n",
    "\n",
    "The image below visually outlines a specific example of the knapsack problem with a carrying capacity of $15 kg$. We will solve this specific example in our code.\n",
    "\n",
    "Your gut feeling should be to select items that have a low weight, but high monetary value. This is the intuitive strategy to solving the knapsack problem."
   ]
  },
  {
   "attachments": {
    "image.png": {
     "image/png": "[encoded data removed]"
    }
   },
   "cell_type": "markdown",
   "id": "237f9dc8",
   "metadata": {},
   "source": [
    "![image.png](attachment:image.png)"
   ]
  },
  {
   "cell_type": "markdown",
   "id": "7ff9b5e1",
   "metadata": {},
   "source": [
    "# Classical Methods for Solving the Knapsack Problem\n",
    "\n",
    "First, let's attempt to solve the knapsack problem just using *classical* computing methods in Python. We will do this just by computing each permutation by brute force and selecting the option that gives the maximum profit under the carrying capacity constraint. We will use this result to validate DWave's answer. Of course, there are more elegant classical methods than just 'brute force' with classical computing, but for all practical purposes, the *quantum dream* is to solve these QUBO problems on hybrid classical - quantum solvers."
   ]
  },
  {
   "cell_type": "code",
   "execution_count": 1,
   "id": "bdb58e11",
   "metadata": {},
   "outputs": [],
   "source": [
    "import numpy as np"
   ]
  },
  {
   "cell_type": "code",
   "execution_count": 2,
   "id": "692ce5d5",
   "metadata": {},
   "outputs": [],
   "source": [
    "# Defining the Knapsack problem\n",
    "\n",
    "items = ['Lime', 'Gray', 'Orange', 'Blue', 'Gold'] # Encoding Items as positions in the array\n",
    "weights = [12,1,1,2,4] # These aren't the weights of the QUBO, these are the weights of the object\n",
    "value   = [4,2,1,2,10] # These are the monetary values of each object (weights of the QUBO)\n",
    "\n",
    "num_items = len(items)\n",
    "\n",
    "carrying_capacity = 15"
   ]
  },
  {
   "cell_type": "code",
   "execution_count": 3,
   "id": "586eb271",
   "metadata": {},
   "outputs": [
    {
     "name": "stdout",
     "output_type": "stream",
     "text": [
      "[0, 0, 0, 0, 0]\n",
      " \n",
      "[0, 0, 0, 0, 1]\n",
      " \n",
      "[0, 0, 0, 1, 0]\n",
      " \n",
      "[0, 0, 0, 1, 1]\n",
      " \n",
      "[0, 0, 1, 0, 0]\n",
      " \n",
      "[0, 0, 1, 0, 1]\n",
      " \n",
      "[0, 0, 1, 1, 0]\n",
      " \n",
      "...\n",
      "[1, 1, 1, 1, 1]\n"
     ]
    }
   ],
   "source": [
    "# Function for generating Binary Bit Strings\n",
    "def bin_gen(number, num_qubits):\n",
    "    '''\n",
    "    Converts base 10 to binary\n",
    "    '''\n",
    "    bin1 = bin(number)[2:]\n",
    "    L = num_qubits - len(bin1)\n",
    "    bin2 = L*'0' + bin1\n",
    "    \n",
    "    arr_string = list(bin2)\n",
    "    arr = [int(x) for x in arr_string]\n",
    "    \n",
    "    return arr\n",
    "\n",
    "\n",
    "# Printing the first few binary bit-strings\n",
    "for i in range(7):\n",
    "    print(bin_gen(i,num_items))\n",
    "    print(' ')\n",
    "    \n",
    "print('...')\n",
    "\n",
    "print([1,1,1,1,1])"
   ]
  },
  {
   "cell_type": "markdown",
   "id": "455434b4",
   "metadata": {},
   "source": [
    "We will dot product each binary bit string into the **value** array to see what total monetary value we gain and we will dot product each binary bit string into the **weight** array as well and check to make sure it doesn't exceed 15. If it does, we will omit it from our solution set."
   ]
  },
  {
   "cell_type": "code",
   "execution_count": 4,
   "id": "b9a99b07",
   "metadata": {
    "scrolled": true
   },
   "outputs": [
    {
     "name": "stdout",
     "output_type": "stream",
     "text": [
      "Bit-String =  [0, 0, 0, 0, 0]\n",
      "Total Value:  [0, 0, 0, 0, 0] . [4, 2, 1, 2, 10] = 0\n",
      "Total Weight:  [0, 0, 0, 0, 0] . [12, 1, 1, 2, 4] = 0\n",
      "Exceeds Carrying Capacity?: No\n",
      " \n",
      "Bit-String =  [0, 0, 0, 0, 1]\n",
      "Total Value:  [0, 0, 0, 0, 1] . [4, 2, 1, 2, 10] = 10\n",
      "Total Weight:  [0, 0, 0, 0, 1] . [12, 1, 1, 2, 4] = 4\n",
      "Exceeds Carrying Capacity?: No\n",
      " \n",
      "Bit-String =  [0, 0, 0, 1, 0]\n",
      "Total Value:  [0, 0, 0, 1, 0] . [4, 2, 1, 2, 10] = 2\n",
      "Total Weight:  [0, 0, 0, 1, 0] . [12, 1, 1, 2, 4] = 2\n",
      "Exceeds Carrying Capacity?: No\n",
      " \n",
      "Bit-String =  [0, 0, 0, 1, 1]\n",
      "Total Value:  [0, 0, 0, 1, 1] . [4, 2, 1, 2, 10] = 12\n",
      "Total Weight:  [0, 0, 0, 1, 1] . [12, 1, 1, 2, 4] = 6\n",
      "Exceeds Carrying Capacity?: No\n",
      " \n",
      "Bit-String =  [0, 0, 1, 0, 0]\n",
      "Total Value:  [0, 0, 1, 0, 0] . [4, 2, 1, 2, 10] = 1\n",
      "Total Weight:  [0, 0, 1, 0, 0] . [12, 1, 1, 2, 4] = 1\n",
      "Exceeds Carrying Capacity?: No\n",
      " \n",
      "Bit-String =  [0, 0, 1, 0, 1]\n",
      "Total Value:  [0, 0, 1, 0, 1] . [4, 2, 1, 2, 10] = 11\n",
      "Total Weight:  [0, 0, 1, 0, 1] . [12, 1, 1, 2, 4] = 5\n",
      "Exceeds Carrying Capacity?: No\n",
      " \n",
      "Bit-String =  [0, 0, 1, 1, 0]\n",
      "Total Value:  [0, 0, 1, 1, 0] . [4, 2, 1, 2, 10] = 3\n",
      "Total Weight:  [0, 0, 1, 1, 0] . [12, 1, 1, 2, 4] = 3\n",
      "Exceeds Carrying Capacity?: No\n",
      " \n",
      "Bit-String =  [0, 0, 1, 1, 1]\n",
      "Total Value:  [0, 0, 1, 1, 1] . [4, 2, 1, 2, 10] = 13\n",
      "Total Weight:  [0, 0, 1, 1, 1] . [12, 1, 1, 2, 4] = 7\n",
      "Exceeds Carrying Capacity?: No\n",
      " \n",
      "Bit-String =  [0, 1, 0, 0, 0]\n",
      "Total Value:  [0, 1, 0, 0, 0] . [4, 2, 1, 2, 10] = 2\n",
      "Total Weight:  [0, 1, 0, 0, 0] . [12, 1, 1, 2, 4] = 1\n",
      "Exceeds Carrying Capacity?: No\n",
      " \n",
      "Bit-String =  [0, 1, 0, 0, 1]\n",
      "Total Value:  [0, 1, 0, 0, 1] . [4, 2, 1, 2, 10] = 12\n",
      "Total Weight:  [0, 1, 0, 0, 1] . [12, 1, 1, 2, 4] = 5\n",
      "Exceeds Carrying Capacity?: No\n",
      " \n",
      "Bit-String =  [0, 1, 0, 1, 0]\n",
      "Total Value:  [0, 1, 0, 1, 0] . [4, 2, 1, 2, 10] = 4\n",
      "Total Weight:  [0, 1, 0, 1, 0] . [12, 1, 1, 2, 4] = 3\n",
      "Exceeds Carrying Capacity?: No\n",
      " \n",
      "Bit-String =  [0, 1, 0, 1, 1]\n",
      "Total Value:  [0, 1, 0, 1, 1] . [4, 2, 1, 2, 10] = 14\n",
      "Total Weight:  [0, 1, 0, 1, 1] . [12, 1, 1, 2, 4] = 7\n",
      "Exceeds Carrying Capacity?: No\n",
      " \n",
      "Bit-String =  [0, 1, 1, 0, 0]\n",
      "Total Value:  [0, 1, 1, 0, 0] . [4, 2, 1, 2, 10] = 3\n",
      "Total Weight:  [0, 1, 1, 0, 0] . [12, 1, 1, 2, 4] = 2\n",
      "Exceeds Carrying Capacity?: No\n",
      " \n",
      "Bit-String =  [0, 1, 1, 0, 1]\n",
      "Total Value:  [0, 1, 1, 0, 1] . [4, 2, 1, 2, 10] = 13\n",
      "Total Weight:  [0, 1, 1, 0, 1] . [12, 1, 1, 2, 4] = 6\n",
      "Exceeds Carrying Capacity?: No\n",
      " \n",
      "Bit-String =  [0, 1, 1, 1, 0]\n",
      "Total Value:  [0, 1, 1, 1, 0] . [4, 2, 1, 2, 10] = 5\n",
      "Total Weight:  [0, 1, 1, 1, 0] . [12, 1, 1, 2, 4] = 4\n",
      "Exceeds Carrying Capacity?: No\n",
      " \n",
      "Bit-String =  [0, 1, 1, 1, 1]\n",
      "Total Value:  [0, 1, 1, 1, 1] . [4, 2, 1, 2, 10] = 15\n",
      "Total Weight:  [0, 1, 1, 1, 1] . [12, 1, 1, 2, 4] = 8\n",
      "Exceeds Carrying Capacity?: No\n",
      " \n",
      "Bit-String =  [1, 0, 0, 0, 0]\n",
      "Total Value:  [1, 0, 0, 0, 0] . [4, 2, 1, 2, 10] = 4\n",
      "Total Weight:  [1, 0, 0, 0, 0] . [12, 1, 1, 2, 4] = 12\n",
      "Exceeds Carrying Capacity?: No\n",
      " \n",
      "Bit-String =  [1, 0, 0, 0, 1]\n",
      "Total Value:  [1, 0, 0, 0, 1] . [4, 2, 1, 2, 10] = 14\n",
      "Total Weight:  [1, 0, 0, 0, 1] . [12, 1, 1, 2, 4] = 16\n",
      "Exceeds Carrying Capacity?: Yes\n",
      " \n",
      "Bit-String =  [1, 0, 0, 1, 0]\n",
      "Total Value:  [1, 0, 0, 1, 0] . [4, 2, 1, 2, 10] = 6\n",
      "Total Weight:  [1, 0, 0, 1, 0] . [12, 1, 1, 2, 4] = 14\n",
      "Exceeds Carrying Capacity?: No\n",
      " \n",
      "Bit-String =  [1, 0, 0, 1, 1]\n",
      "Total Value:  [1, 0, 0, 1, 1] . [4, 2, 1, 2, 10] = 16\n",
      "Total Weight:  [1, 0, 0, 1, 1] . [12, 1, 1, 2, 4] = 18\n",
      "Exceeds Carrying Capacity?: Yes\n",
      " \n",
      "Bit-String =  [1, 0, 1, 0, 0]\n",
      "Total Value:  [1, 0, 1, 0, 0] . [4, 2, 1, 2, 10] = 5\n",
      "Total Weight:  [1, 0, 1, 0, 0] . [12, 1, 1, 2, 4] = 13\n",
      "Exceeds Carrying Capacity?: No\n",
      " \n",
      "Bit-String =  [1, 0, 1, 0, 1]\n",
      "Total Value:  [1, 0, 1, 0, 1] . [4, 2, 1, 2, 10] = 15\n",
      "Total Weight:  [1, 0, 1, 0, 1] . [12, 1, 1, 2, 4] = 17\n",
      "Exceeds Carrying Capacity?: Yes\n",
      " \n",
      "Bit-String =  [1, 0, 1, 1, 0]\n",
      "Total Value:  [1, 0, 1, 1, 0] . [4, 2, 1, 2, 10] = 7\n",
      "Total Weight:  [1, 0, 1, 1, 0] . [12, 1, 1, 2, 4] = 15\n",
      "Exceeds Carrying Capacity?: No\n",
      " \n",
      "Bit-String =  [1, 0, 1, 1, 1]\n",
      "Total Value:  [1, 0, 1, 1, 1] . [4, 2, 1, 2, 10] = 17\n",
      "Total Weight:  [1, 0, 1, 1, 1] . [12, 1, 1, 2, 4] = 19\n",
      "Exceeds Carrying Capacity?: Yes\n",
      " \n",
      "Bit-String =  [1, 1, 0, 0, 0]\n",
      "Total Value:  [1, 1, 0, 0, 0] . [4, 2, 1, 2, 10] = 6\n",
      "Total Weight:  [1, 1, 0, 0, 0] . [12, 1, 1, 2, 4] = 13\n",
      "Exceeds Carrying Capacity?: No\n",
      " \n",
      "Bit-String =  [1, 1, 0, 0, 1]\n",
      "Total Value:  [1, 1, 0, 0, 1] . [4, 2, 1, 2, 10] = 16\n",
      "Total Weight:  [1, 1, 0, 0, 1] . [12, 1, 1, 2, 4] = 17\n",
      "Exceeds Carrying Capacity?: Yes\n",
      " \n",
      "Bit-String =  [1, 1, 0, 1, 0]\n",
      "Total Value:  [1, 1, 0, 1, 0] . [4, 2, 1, 2, 10] = 8\n",
      "Total Weight:  [1, 1, 0, 1, 0] . [12, 1, 1, 2, 4] = 15\n",
      "Exceeds Carrying Capacity?: No\n",
      " \n",
      "Bit-String =  [1, 1, 0, 1, 1]\n",
      "Total Value:  [1, 1, 0, 1, 1] . [4, 2, 1, 2, 10] = 18\n",
      "Total Weight:  [1, 1, 0, 1, 1] . [12, 1, 1, 2, 4] = 19\n",
      "Exceeds Carrying Capacity?: Yes\n",
      " \n",
      "Bit-String =  [1, 1, 1, 0, 0]\n",
      "Total Value:  [1, 1, 1, 0, 0] . [4, 2, 1, 2, 10] = 7\n",
      "Total Weight:  [1, 1, 1, 0, 0] . [12, 1, 1, 2, 4] = 14\n",
      "Exceeds Carrying Capacity?: No\n",
      " \n",
      "Bit-String =  [1, 1, 1, 0, 1]\n",
      "Total Value:  [1, 1, 1, 0, 1] . [4, 2, 1, 2, 10] = 17\n",
      "Total Weight:  [1, 1, 1, 0, 1] . [12, 1, 1, 2, 4] = 18\n",
      "Exceeds Carrying Capacity?: Yes\n",
      " \n",
      "Bit-String =  [1, 1, 1, 1, 0]\n",
      "Total Value:  [1, 1, 1, 1, 0] . [4, 2, 1, 2, 10] = 9\n",
      "Total Weight:  [1, 1, 1, 1, 0] . [12, 1, 1, 2, 4] = 16\n",
      "Exceeds Carrying Capacity?: Yes\n",
      " \n",
      "Bit-String =  [1, 1, 1, 1, 1]\n",
      "Total Value:  [1, 1, 1, 1, 1] . [4, 2, 1, 2, 10] = 19\n",
      "Total Weight:  [1, 1, 1, 1, 1] . [12, 1, 1, 2, 4] = 20\n",
      "Exceeds Carrying Capacity?: Yes\n",
      " \n"
     ]
    }
   ],
   "source": [
    "bit_string_array  = []\n",
    "value_array = []\n",
    "weight_array = []\n",
    "\n",
    "for i in range( int(2**num_items) ):\n",
    "    bit_string   = bin_gen(i,num_items) # Generating a bit string\n",
    "    total_value  = np.dot( bit_string, value) # Computing the value of all items in the knapsack\n",
    "    total_weight = np.dot( bit_string, weights ) # Computing the total weight of all items in the knapsack\n",
    "    \n",
    "    # Printing all 2**5 = 32 options and checking if the satisfy the constraint\n",
    "    print('Bit-String = ', bit_string)\n",
    "    print('Total Value: ',bit_string, '.', value, '=', total_value)\n",
    "    print('Total Weight: ',bit_string, '.', weights,'=', total_weight)\n",
    "    if total_weight > carrying_capacity:\n",
    "        print('Exceeds Carrying Capacity?: Yes')\n",
    "    else:\n",
    "        print('Exceeds Carrying Capacity?: No')\n",
    "    print(' ')\n",
    "    \n",
    "    # Only Appending Valid Solutions that Satisfy the carrying capacity constraint\n",
    "    if total_weight <= carrying_capacity:\n",
    "        bit_string_array.append(bit_string)\n",
    "        value_array.append(total_value)\n",
    "        weight_array.append(total_weight)"
   ]
  },
  {
   "cell_type": "code",
   "execution_count": 5,
   "id": "a494bbc3",
   "metadata": {
    "scrolled": true
   },
   "outputs": [
    {
     "name": "stdout",
     "output_type": "stream",
     "text": [
      "['Lime', 'Gray', 'Orange', 'Blue', 'Gold']\n",
      "Optimal Binary Bit-String: [0, 1, 1, 1, 1]\n",
      "Maximum Monetary Value: 15\n",
      "Weight: 8 . Satisfies Carrying Capacity Constraint?: True\n"
     ]
    }
   ],
   "source": [
    "opt_index = np.argmax(value_array) # Locating where the optimal (max) solution occurs in the data set\n",
    "\n",
    "opt_bit_string = bit_string_array[opt_index]\n",
    "opt_value      = value_array[opt_index]\n",
    "opt_weight     = weight_array[opt_index]\n",
    "\n",
    "\n",
    "print(items)\n",
    "print('Optimal Binary Bit-String:', opt_bit_string)\n",
    "print('Maximum Monetary Value:', opt_value)\n",
    "print('Weight:',opt_weight, '. Satisfies Carrying Capacity Constraint?:', opt_weight <= carrying_capacity)"
   ]
  },
  {
   "cell_type": "markdown",
   "id": "6d8c35ee",
   "metadata": {},
   "source": [
    "Our optimal binary bit string tells us which items to add to our knapsack, and which ones to leave behind. A '$0$' means do not take the item, and a '$1$' means to take the item.\n",
    "\n",
    "The optimal binary bit string we classically solved for is $|01111>$. If we reference our **items** array: ['Lime', 'Gray', 'Orange', 'Blue', 'Gold'], the optimal bit string $|01111>$ tells us: Do not take the 'Lime' colored book, and take the rest of the books.\n",
    "\n",
    "We can take the dot product between [0,1,1,1,1] and the *value* vector to get the total value of all items in the knapsack.\n",
    "\n",
    "total value = $[0,1,1,1,1] \\cdot [4,2,1,2,10] = 2 + 1 + 2 + 10 = 15$\n",
    "\n",
    "Likewise, we can take the dot product between [0,1,1,1,1] and the *weights* vector to get the total weight of all the items in the knapsack\n",
    "\n",
    "total weight = $[0,1,1,1,1] \\cdot [12,1,1,2,4] = 1 + 1 + 2 + 4 = 8$\n",
    "\n",
    "Notice, $8$ is less than the carrying capacity limit of $15$, thus the carrying capacity constraint is satisfied."
   ]
  },
  {
   "cell_type": "markdown",
   "id": "d1d799be",
   "metadata": {},
   "source": [
    "# Quantum Annealing Methods for Solving the Knapsack Problem"
   ]
  },
  {
   "cell_type": "code",
   "execution_count": 12,
   "id": "53ebfa6a",
   "metadata": {},
   "outputs": [],
   "source": [
    "# Importing DWave Packages\n",
    "\n",
    "from dwave.system import DWaveSampler, EmbeddingComposite\n",
    "from dimod import BinaryQuadraticModel"
   ]
  },
  {
   "cell_type": "code",
   "execution_count": 13,
   "id": "0c6bf51a",
   "metadata": {},
   "outputs": [],
   "source": [
    "# Setting up Parameters for the Knapsack Problem\n",
    "\n",
    "items = np.arange(0,5).tolist() # Binary Variable Labeling\n",
    "\n",
    "weights = [12,1,1,2,4] # These aren't the weights of the QUBO, these are the weights of the object\n",
    "value   = [4,2,1,2,10] # These are the monetary values of each object (weights of the QUBO)\n",
    "\n",
    "carrying_capacity = 15\n",
    "\n",
    "# Encoding the color of each book\n",
    "x = ['Lime', 'Gray', 'Orange', 'Blue', 'Gold'] # More Binary Variable Labeling"
   ]
  },
  {
   "cell_type": "code",
   "execution_count": 14,
   "id": "723487dd",
   "metadata": {},
   "outputs": [
    {
     "data": {
      "text/plain": [
       "BinaryQuadraticModel({'Lime': -436.0, 'Gray': -60.0, 'Orange': -59.0, 'Blue': -114.0, 'Gold': -218.0, 'slack_constraint_0': -58.0, 'slack_constraint_1': -112.0, 'slack_constraint_2': -208.0, 'slack_constraint_3': -322.0}, {('Gray', 'Lime'): 48.0, ('Orange', 'Lime'): 48.0, ('Orange', 'Gray'): 4.0, ('Blue', 'Lime'): 96.0, ('Blue', 'Gray'): 8.0, ('Blue', 'Orange'): 8.0, ('Gold', 'Lime'): 192.0, ('Gold', 'Gray'): 16.0, ('Gold', 'Orange'): 16.0, ('Gold', 'Blue'): 32.0, ('slack_constraint_0', 'Lime'): 48.0, ('slack_constraint_0', 'Gray'): 4.0, ('slack_constraint_0', 'Orange'): 4.0, ('slack_constraint_0', 'Blue'): 8.0, ('slack_constraint_0', 'Gold'): 16.0, ('slack_constraint_1', 'Lime'): 96.0, ('slack_constraint_1', 'Gray'): 8.0, ('slack_constraint_1', 'Orange'): 8.0, ('slack_constraint_1', 'Blue'): 16.0, ('slack_constraint_1', 'Gold'): 32.0, ('slack_constraint_1', 'slack_constraint_0'): 8.0, ('slack_constraint_2', 'Lime'): 192.0, ('slack_constraint_2', 'Gray'): 16.0, ('slack_constraint_2', 'Orange'): 16.0, ('slack_constraint_2', 'Blue'): 32.0, ('slack_constraint_2', 'Gold'): 64.0, ('slack_constraint_2', 'slack_constraint_0'): 16.0, ('slack_constraint_2', 'slack_constraint_1'): 32.0, ('slack_constraint_3', 'Lime'): 336.0, ('slack_constraint_3', 'Gray'): 28.0, ('slack_constraint_3', 'Orange'): 28.0, ('slack_constraint_3', 'Blue'): 56.0, ('slack_constraint_3', 'Gold'): 112.0, ('slack_constraint_3', 'slack_constraint_0'): 28.0, ('slack_constraint_3', 'slack_constraint_1'): 56.0, ('slack_constraint_3', 'slack_constraint_2'): 112.0}, 450.0, 'BINARY')"
      ]
     },
     "execution_count": 14,
     "metadata": {},
     "output_type": "execute_result"
    }
   ],
   "source": [
    "# Encoding the QUBO in DWave solvers\n",
    "\n",
    "bqm = BinaryQuadraticModel(\"BINARY\") # Encoding QUBO\n",
    "\n",
    "# Writing the Objective Function (adding each variable and assigning it's associated monetary value (QUBO weight))\n",
    "for i in items:\n",
    "    bqm.add_variable(x[i], -value[i]) # Appending the negative of each value so the solver looks for the minimum\n",
    "\n",
    "# Accumulating the linear inequality constraints\n",
    "c1 = [(x[i], weights[i]) for i in items]\n",
    "\n",
    "# Implementing all the constraints all together\n",
    "bqm.add_linear_inequality_constraint(c1, lb = 1, ub = carrying_capacity, lagrange_multiplier = 2, label = 'constraint')\n",
    "    \n",
    "    \n",
    "bqm"
   ]
  },
  {
   "cell_type": "code",
   "execution_count": 15,
   "id": "0e56141f",
   "metadata": {},
   "outputs": [],
   "source": [
    "# Solve the problem using D-Wave\n",
    "sampler = EmbeddingComposite(DWaveSampler())\n",
    "sampleset = sampler.sample(bqm, num_reads=50)"
   ]
  },
  {
   "cell_type": "code",
   "execution_count": 16,
   "id": "5ca68c8a",
   "metadata": {},
   "outputs": [],
   "source": [
    "# Post-Processing Solver Output\n",
    "opt_solution = sampleset.first.sample # Binary Bit-String that minimizes the cost function\n",
    "opt_value = sampleset.first.energy    # Minimized Cost function value"
   ]
  },
  {
   "cell_type": "code",
   "execution_count": 17,
   "id": "fbc3dd9b",
   "metadata": {},
   "outputs": [
    {
     "name": "stdout",
     "output_type": "stream",
     "text": [
      "X_min =  {'Blue': 1, 'Gold': 1, 'Gray': 1, 'Lime': 0, 'Orange': 1, 'slack_constraint_0': 0, 'slack_constraint_1': 0, 'slack_constraint_2': 0, 'slack_constraint_3': 1}\n",
      "C_min =  -15.0\n"
     ]
    }
   ],
   "source": [
    "print('X_min = ', opt_solution)\n",
    "print('C_min = ', opt_value)"
   ]
  },
  {
   "cell_type": "markdown",
   "id": "3853ed4d",
   "metadata": {},
   "source": [
    "The DWave Solver tells gives us a summary of which books to add to our knapsack by marking them with a '$1$', and which books not to grab by marking them with a '$0$'.\n",
    "\n",
    "In this case, we have: \n",
    "\n",
    "### {'Blue': 1, 'Gold': 1, 'Gray': 1, 'Lime': 0, 'Orange': 1}\n",
    "\n",
    "Which means to add every book to our knapsack except the lime book in order to maximize our profit while staying underneath our carrying capacity constraint."
   ]
  },
  {
   "cell_type": "markdown",
   "id": "7757f983",
   "metadata": {},
   "source": [
    "Next, we will upgrade from *LUBOs* to *QUBOs* by adding the 'quadraticness' back into the cost function. However, it is quite significant to see that LUBO's by themselves can solve interesting real-world problems. It turns out, the problems get more interesting and more complex as we examine QUBOs! Stay tuned!"
   ]
  },
  {
   "cell_type": "markdown",
   "id": "27162977",
   "metadata": {},
   "source": [
    "### Sources\n",
    "\n",
    "[1] “0/1 Knapsack problem,” GeeksforGeeks, https://www.geeksforgeeks.org/0-1-knapsack-problem-dp-10/ (accessed Dec. 11, 2023). \n",
    "\n",
    "[2] “Dynamic programming - subset sum problem,” GeeksforGeeks, https://www.geeksforgeeks.org/subset-sum-problem-dp-25/ (accessed Dec. 11, 2023). \n",
    "\n",
    "[3] “Binary quadratic models#,” Binary Quadratic Models - Ocean Documentation 6.7.1 documentation, https://docs.ocean.dwavesys.com/en/stable/concepts/bqm.html (accessed Dec. 11, 2023). \n",
    "\n",
    "[4] “Quantum programming tutorial | D-wave qubits 2021,” YouTube, https://www.youtube.com/watch?v=jTDnGox0c9Y (accessed Dec. 11, 2023). "
   ]
  },
  {
   "cell_type": "code",
   "execution_count": null,
   "id": "a11de486",
   "metadata": {},
   "outputs": [],
   "source": []
  }
 ],
 "metadata": {
  "hide_input": false,
  "kernelspec": {
   "display_name": "Python 3",
   "language": "python",
   "name": "python3"
  },
  "language_info": {
   "codemirror_mode": {
    "name": "ipython",
    "version": 3
   },
   "file_extension": ".py",
   "mimetype": "text/x-python",
   "name": "python",
   "nbconvert_exporter": "python",
   "pygments_lexer": "ipython3",
   "version": "3.7.5"
  }
 },
 "nbformat": 4,
 "nbformat_minor": 5
}
