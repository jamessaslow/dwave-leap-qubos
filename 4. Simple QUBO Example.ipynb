{
 "cells": [
  {
   "cell_type": "markdown",
   "id": "7813c69b",
   "metadata": {},
   "source": [
    "# Simple QUBO Example\n",
    "### James Saslow\n",
    "### 12/5/2023\n",
    "\n",
    "In this notebook, we will add the 'quadraticness' back into our cost function to solve a simple QUBO on DWave hybrid solvers!\n",
    "\n",
    "As a recap, the goal to solving QUBO problems is to find the optimal solutions to the following cost function:\n",
    "\n",
    "\n",
    "### $C(X) = \\sum_{i} W_{i} x_{i} + \\sum_{\\{i,j\\}\\epsilon \\mathbb{S}} w_{i,j} x_{i} x_{j}$ \n",
    "\n",
    "A particular cost function we will focus on is\n",
    "\n",
    "\n",
    "### $C(|x_{0}x_{1}>) = 2 x_{0} - x_{1}  -3 x_{0} x_{1} $\n",
    "\n",
    "Notice how $2 x_{0} - x_{1}$ is the linear part and $-3 x_{0} x_{1}$ is the quadratic part of the QUBO\n",
    "\n",
    "We want to find\n",
    "- 1) The binary bit string $|x_{0}x_{1}>$ that minimizes the cost function $C(X)$\n",
    "- 2) The binary bit string $|x_{0}x_{1}>$ that maximizes the cost function $C(X)$\n",
    "\n",
    "\n",
    "Let's brute-force compute all outcomes ourselves so we know what to expect\n",
    "\n",
    "#### $C(|00>) = 2*0 -0 - 3*0*0 = 0$\n",
    "#### $C(|01>) = 2*0 - 1 - 3*0*1 = -1$\n",
    "#### $C(|10>) = 2 - 0 - 3* 1 * 0 = 2$\n",
    "#### $C(|11>) = 2 - 1 - 3*1*1 = -2$\n",
    "\n",
    "Thus, we see by a classic brute-force search that $|11>$ minimizes the cost function and $|10>$ maximizes the cost function. Let's cross-check our results with DWave!"
   ]
  },
  {
   "cell_type": "markdown",
   "id": "0ef36971",
   "metadata": {},
   "source": [
    "### Task 1) Finding the binary bit string that minimizes $C(X)$ using DWave"
   ]
  },
  {
   "cell_type": "code",
   "execution_count": 8,
   "id": "3485db06",
   "metadata": {},
   "outputs": [],
   "source": [
    "# Importing DWave Packages\n",
    "from dwave.system import DWaveSampler, EmbeddingComposite\n",
    "from dimod import BinaryQuadraticModel"
   ]
  },
  {
   "cell_type": "code",
   "execution_count": 2,
   "id": "1d9d5cc6",
   "metadata": {},
   "outputs": [],
   "source": [
    "# Defining the QUBO parameters\n",
    "\n",
    "items   = [0,1]  # Binary Variable Labeling\n",
    "weights = [2,-1] # W weights associated with each binary variable\n",
    "\n",
    "x = ['Item_0', 'Item_1'] # More Binary Variable Labeling"
   ]
  },
  {
   "cell_type": "code",
   "execution_count": 4,
   "id": "74452150",
   "metadata": {},
   "outputs": [
    {
     "data": {
      "text/plain": [
       "BinaryQuadraticModel({'Item_0': 2.0, 'Item_1': -1.0}, {('Item_1', 'Item_0'): -3.0}, 0.0, 'BINARY')"
      ]
     },
     "execution_count": 4,
     "metadata": {},
     "output_type": "execute_result"
    }
   ],
   "source": [
    "# Encoding the QUBO in DWave solvers\n",
    "\n",
    "bqm = BinaryQuadraticModel(\"BINARY\") # Encoding QUBO\n",
    "\n",
    "# Encoding the Linear Terms\n",
    "for i in items:\n",
    "    bqm.add_variable(x[i], weights[i])\n",
    "\n",
    "# Encoding the Quadratic Terms\n",
    "bqm.add_interaction('Item_0','Item_1', -3) \n",
    "    \n",
    "bqm"
   ]
  },
  {
   "cell_type": "code",
   "execution_count": 5,
   "id": "fd024fed",
   "metadata": {},
   "outputs": [],
   "source": [
    "# Solve the problem using D-Wave\n",
    "sampler = EmbeddingComposite(DWaveSampler())\n",
    "sampleset = sampler.sample(bqm, num_reads=10)"
   ]
  },
  {
   "cell_type": "code",
   "execution_count": 6,
   "id": "10b58c39",
   "metadata": {},
   "outputs": [],
   "source": [
    "# Post-Processing Solver Output\n",
    "opt_solution = sampleset.first.sample # Binary Bit-String that minimizes the cost function\n",
    "opt_value = sampleset.first.energy    # Minimized Cost function value"
   ]
  },
  {
   "cell_type": "code",
   "execution_count": 7,
   "id": "d9c1ee1e",
   "metadata": {},
   "outputs": [
    {
     "name": "stdout",
     "output_type": "stream",
     "text": [
      "{'Item_0': 1, 'Item_1': 1}\n",
      "C_min =  -2.0\n"
     ]
    }
   ],
   "source": [
    "print(opt_solution)\n",
    "print('C_min = ', opt_value)"
   ]
  },
  {
   "cell_type": "markdown",
   "id": "a6274295",
   "metadata": {},
   "source": [
    "### DWave solvers suggests that the binary bit string $|11>$ minimizes the cost function $C(X)$ with $C(|11>) = -2$"
   ]
  },
  {
   "cell_type": "markdown",
   "id": "14d306b3",
   "metadata": {},
   "source": [
    "### Task 1) Finding the binary bit string that maximizes $C(X)$ using DWave\n",
    "\n",
    "We must multiply our entire cost function by $-1$ to flip minimums to maximum and maximums to minimums in order to form $C'(X)$. The minimum of $C'(X)$ is the maximum of $C(X)$."
   ]
  },
  {
   "cell_type": "code",
   "execution_count": 14,
   "id": "5a65f749",
   "metadata": {},
   "outputs": [],
   "source": [
    "# Defining the QUBO parameters\n",
    "\n",
    "items   = [0,1]  # Binary Variable Labeling\n",
    "\n",
    "# Flipping the signs on each element in 'weights' to create C(X)\n",
    "weights = [-2,1] # W weights associated with each binary variable\n",
    "\n",
    "x = ['Item_0', 'Item_1'] # More Binary Variable Labeling"
   ]
  },
  {
   "cell_type": "code",
   "execution_count": 15,
   "id": "0f2c8533",
   "metadata": {},
   "outputs": [
    {
     "data": {
      "text/plain": [
       "BinaryQuadraticModel({'Item_0': -2.0, 'Item_1': 1.0}, {('Item_1', 'Item_0'): 3.0}, 0.0, 'BINARY')"
      ]
     },
     "execution_count": 15,
     "metadata": {},
     "output_type": "execute_result"
    }
   ],
   "source": [
    "# Encoding the QUBO in DWave solvers\n",
    "\n",
    "bqm = BinaryQuadraticModel(\"BINARY\") # Encoding QUBO\n",
    "\n",
    "# Encoding the Linear Terms\n",
    "for i in items:\n",
    "    bqm.add_variable(x[i], weights[i])\n",
    "\n",
    "# Encoding the Quadratic Terms\n",
    "bqm.add_interaction('Item_0','Item_1', 3) \n",
    "    \n",
    "bqm"
   ]
  },
  {
   "cell_type": "code",
   "execution_count": 16,
   "id": "a073fa17",
   "metadata": {},
   "outputs": [],
   "source": [
    "# Solve the problem using D-Wave\n",
    "sampler = EmbeddingComposite(DWaveSampler())\n",
    "sampleset = sampler.sample(bqm, num_reads=10)"
   ]
  },
  {
   "cell_type": "code",
   "execution_count": 17,
   "id": "6e511288",
   "metadata": {},
   "outputs": [],
   "source": [
    "# Post-Processing Solver Output\n",
    "opt_solution = sampleset.first.sample # Binary Bit-String that minimizes the cost function\n",
    "opt_value = sampleset.first.energy    # Minimized Cost function value"
   ]
  },
  {
   "cell_type": "code",
   "execution_count": 18,
   "id": "3c1690d6",
   "metadata": {},
   "outputs": [
    {
     "name": "stdout",
     "output_type": "stream",
     "text": [
      "{'Item_0': 1, 'Item_1': 0}\n",
      "C_min =  -2.0\n"
     ]
    }
   ],
   "source": [
    "print(opt_solution)\n",
    "print('C_min = ', opt_value)"
   ]
  },
  {
   "cell_type": "markdown",
   "id": "b19cba2a",
   "metadata": {},
   "source": [
    "### DWave solvers suggests that the binary bit string $|10>$ maximizes the cost function $C(X)$ with $C(|10>) = 2$\n",
    "\n",
    "------------------------------------------------------\n",
    "\n",
    "To summarize our findings, \n",
    "\n",
    "we found that both classically and with DWave solvers that the solutions to the following QUBO are\n",
    "\n",
    "### $C(|x_{0}x_{1}>) = 2 x_{0} - x_{1}  -3 x_{0} x_{1} $\n",
    "\n",
    "### Min Solution: $X_{min} = |11>$, $C(X_{min}) = -2$\n",
    "\n",
    "### Max Solution: $X_{max} = |10>$, $C(X_{max}) = 2$"
   ]
  },
  {
   "cell_type": "markdown",
   "id": "3156c58e",
   "metadata": {},
   "source": [
    "Now, we are well-equiped so solve NP-Hard problems that have quadratic terms in their cost function -- like the *Max-cut problem*!\n",
    "\n",
    "More soon -- Stay tuned!"
   ]
  },
  {
   "cell_type": "markdown",
   "id": "15728114",
   "metadata": {},
   "source": [
    "### Sources\n",
    "\n",
    "[1] “Binary quadratic models#,” Binary Quadratic Models - Ocean Documentation 6.7.1 documentation, https://docs.ocean.dwavesys.com/en/stable/concepts/bqm.html (accessed Dec. 11, 2023). \n",
    "\n",
    "[2] “Quantum programming tutorial | D-wave qubits 2021,” YouTube, https://www.youtube.com/watch?v=jTDnGox0c9Y (accessed Dec. 11, 2023). "
   ]
  },
  {
   "cell_type": "code",
   "execution_count": null,
   "id": "463d6848",
   "metadata": {},
   "outputs": [],
   "source": []
  }
 ],
 "metadata": {
  "hide_input": false,
  "kernelspec": {
   "display_name": "Python 3",
   "language": "python",
   "name": "python3"
  },
  "language_info": {
   "codemirror_mode": {
    "name": "ipython",
    "version": 3
   },
   "file_extension": ".py",
   "mimetype": "text/x-python",
   "name": "python",
   "nbconvert_exporter": "python",
   "pygments_lexer": "ipython3",
   "version": "3.7.5"
  }
 },
 "nbformat": 4,
 "nbformat_minor": 5
}
